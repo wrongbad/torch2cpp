{
 "cells": [
  {
   "cell_type": "code",
   "execution_count": 1,
   "metadata": {},
   "outputs": [
    {
     "name": "stdout",
     "output_type": "stream",
     "text": [
      "params=11,698,432\n"
     ]
    }
   ],
   "source": [
    "import torch\n",
    "from sqrll.sqrllm import SqrLLM\n",
    "\n",
    "model_file = '../../sqrll/example/models/model2048bpe.pt'\n",
    "\n",
    "model = SqrLLM.load(model_file).eval()\n",
    "\n",
    "params = sum(p.numel() for p in model.parameters())\n",
    "print(f'{params=:,}')"
   ]
  },
  {
   "cell_type": "code",
   "execution_count": 2,
   "metadata": {},
   "outputs": [
    {
     "name": "stdout",
     "output_type": "stream",
     "text": [
      "n_vocab=2048\n"
     ]
    }
   ],
   "source": [
    "from tokenizers import Tokenizer\n",
    "\n",
    "token_file = '../../sqrll/example/models/tokenizer2048.json'\n",
    "\n",
    "tokenizer = Tokenizer.from_file(token_file)\n",
    "n_vocab = tokenizer.get_vocab_size()\n",
    "print(f'{n_vocab=}')"
   ]
  },
  {
   "cell_type": "code",
   "execution_count": 3,
   "metadata": {},
   "outputs": [],
   "source": [
    "from torch2cpp import codegen\n",
    "from sqrll import sqrll, sqrllm\n",
    "\n",
    "inputs = torch.tensor([[0]])\n",
    "_, mem = model(inputs)\n",
    "mem = [torch.zeros_like(m) for m in mem]\n",
    "\n",
    "with open('build/model.cpp', 'w') as out_file:\n",
    "    codegen(\n",
    "        model,\n",
    "        out_file,\n",
    "        args=[inputs, mem],\n",
    "        tokenizer=tokenizer,\n",
    "        autowrap_functions=[\n",
    "            sqrll.sqrll_kernel,\n",
    "            sqrllm.rms_norm,\n",
    "        ],\n",
    "        skip_weights=False,\n",
    "    )"
   ]
  },
  {
   "cell_type": "code",
   "execution_count": null,
   "metadata": {},
   "outputs": [],
   "source": []
  }
 ],
 "metadata": {
  "kernelspec": {
   "display_name": ".venv",
   "language": "python",
   "name": "python3"
  },
  "language_info": {
   "codemirror_mode": {
    "name": "ipython",
    "version": 3
   },
   "file_extension": ".py",
   "mimetype": "text/x-python",
   "name": "python",
   "nbconvert_exporter": "python",
   "pygments_lexer": "ipython3",
   "version": "3.10.12"
  }
 },
 "nbformat": 4,
 "nbformat_minor": 2
}
