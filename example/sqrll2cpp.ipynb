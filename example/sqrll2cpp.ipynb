{
 "cells": [
  {
   "cell_type": "code",
   "execution_count": 7,
   "metadata": {},
   "outputs": [
    {
     "name": "stdout",
     "output_type": "stream",
     "text": [
      "params=11,698,432\n"
     ]
    }
   ],
   "source": [
    "import torch\n",
    "from sqrll.sqrllm import SqrLLM\n",
    "import struct\n",
    "\n",
    "model_file = '../../sqrll/example/models/model2048wu.pt'\n",
    "\n",
    "model = SqrLLM.load(model_file).eval()\n",
    "\n",
    "tokenizer = None\n",
    "\n",
    "params = sum(p.numel() for p in model.parameters())\n",
    "print(f'{params=:,}')"
   ]
  },
  {
   "cell_type": "code",
   "execution_count": 8,
   "metadata": {},
   "outputs": [
    {
     "name": "stdout",
     "output_type": "stream",
     "text": [
      "n_vocab=2048\n"
     ]
    }
   ],
   "source": [
    "# from tokenizers import Tokenizer\n",
    "# token_file = '../../sqrll/example/models/tokenizer2048.json'\n",
    "# tokenizer = Tokenizer.from_file(token_file)\n",
    "# n_vocab = tokenizer.get_vocab_size()\n",
    "\n",
    "from btok import Tokenizer\n",
    "token_file = '../../sqrll/example/models/bpe2048wu.pack'\n",
    "with open(token_file, 'rb') as f:\n",
    "    tokenizer = Tokenizer(f.read())\n",
    "n_vocab = tokenizer.num_tokens()\n",
    "tokens = [tokenizer.token(i) for i in range(n_vocab)]\n",
    "\n",
    "print(f'{n_vocab=}')"
   ]
  },
  {
   "cell_type": "code",
   "execution_count": 9,
   "metadata": {},
   "outputs": [],
   "source": [
    "from torch2cpp import codegen\n",
    "from sqrll import sqrll, sqrllm\n",
    "\n",
    "inputs = torch.tensor([[0]])\n",
    "_, mem = model(inputs)\n",
    "mem = [torch.zeros_like(m) for m in mem]\n",
    "\n",
    "with open('build/model.cpp', 'w') as out_file:\n",
    "    codegen(\n",
    "        model,\n",
    "        out_file,\n",
    "        args=[inputs, mem],\n",
    "        tokens=tokens,\n",
    "        autowrap_functions=[\n",
    "            sqrll.sqrll_kernel,\n",
    "            sqrllm.rms_norm,\n",
    "        ],\n",
    "    )"
   ]
  },
  {
   "cell_type": "code",
   "execution_count": 10,
   "metadata": {},
   "outputs": [
    {
     "name": "stdout",
     "output_type": "stream",
     "text": [
      "em++ build/model.cpp -o build/model.js -I/home/k/dev/torch2cpp/src/torch2cpp/include \\\n",
      "\t-Os -s MODULARIZE=1 -s EXPORT_NAME=load_model \\\n",
      "\t-s EXPORTED_FUNCTIONS=_model_step,_model_reset,_model_encode,_model_decode,_malloc\n"
     ]
    }
   ],
   "source": [
    "%%bash\n",
    "make model.js"
   ]
  }
 ],
 "metadata": {
  "kernelspec": {
   "display_name": ".venv",
   "language": "python",
   "name": "python3"
  },
  "language_info": {
   "codemirror_mode": {
    "name": "ipython",
    "version": 3
   },
   "file_extension": ".py",
   "mimetype": "text/x-python",
   "name": "python",
   "nbconvert_exporter": "python",
   "pygments_lexer": "ipython3",
   "version": "3.10.12"
  }
 },
 "nbformat": 4,
 "nbformat_minor": 2
}
